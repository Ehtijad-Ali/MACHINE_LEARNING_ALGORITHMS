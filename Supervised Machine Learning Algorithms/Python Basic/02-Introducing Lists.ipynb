{
 "cells": [
  {
   "cell_type": "code",
   "execution_count": 1,
   "metadata": {},
   "outputs": [
    {
     "name": "stdout",
     "output_type": "stream",
     "text": [
      "['trek', 'cannodale', 'redline', 'specialized']\n"
     ]
    }
   ],
   "source": [
    "bicycles = ['trek', 'cannodale', 'redline', 'specialized']\n",
    "print(bicycles)"
   ]
  },
  {
   "cell_type": "code",
   "execution_count": 2,
   "metadata": {},
   "outputs": [
    {
     "name": "stdout",
     "output_type": "stream",
     "text": [
      "trek\n"
     ]
    }
   ],
   "source": [
    "print(bicycles[0])"
   ]
  },
  {
   "cell_type": "code",
   "execution_count": 3,
   "metadata": {},
   "outputs": [
    {
     "name": "stdout",
     "output_type": "stream",
     "text": [
      "Trek\n"
     ]
    }
   ],
   "source": [
    "print(bicycles[0].title())"
   ]
  },
  {
   "cell_type": "code",
   "execution_count": 4,
   "metadata": {},
   "outputs": [
    {
     "name": "stdout",
     "output_type": "stream",
     "text": [
      "cannodale\n",
      "specialized\n"
     ]
    }
   ],
   "source": [
    "print(bicycles[1])\n",
    "print(bicycles[3])"
   ]
  },
  {
   "cell_type": "code",
   "execution_count": 5,
   "metadata": {},
   "outputs": [
    {
     "name": "stdout",
     "output_type": "stream",
     "text": [
      "specialized\n"
     ]
    }
   ],
   "source": [
    "print(bicycles[-1])"
   ]
  },
  {
   "cell_type": "code",
   "execution_count": 6,
   "metadata": {},
   "outputs": [
    {
     "name": "stdout",
     "output_type": "stream",
     "text": [
      "My first bicycle was a Trek\n"
     ]
    }
   ],
   "source": [
    "message = f'My first bicycle was a {bicycles[0].title()}'\n",
    "print(message)"
   ]
  },
  {
   "cell_type": "code",
   "execution_count": 7,
   "metadata": {},
   "outputs": [
    {
     "name": "stdout",
     "output_type": "stream",
     "text": [
      "Bipin\n",
      "Milan\n",
      "Sabin\n",
      "Avisek\n"
     ]
    }
   ],
   "source": [
    "names = ['Bipin', 'Milan', 'Sabin', 'Avisek']\n",
    "for i in names:\n",
    "    print(i)"
   ]
  },
  {
   "cell_type": "code",
   "execution_count": 8,
   "metadata": {},
   "outputs": [
    {
     "name": "stdout",
     "output_type": "stream",
     "text": [
      "Hello Bipin\n",
      "Hello Milan\n",
      "Hello Sabin\n",
      "Hello Avisek\n"
     ]
    }
   ],
   "source": [
    "for i in names:\n",
    "    message = f'Hello {i}'\n",
    "    print(message)"
   ]
  },
  {
   "cell_type": "code",
   "execution_count": 11,
   "metadata": {},
   "outputs": [
    {
     "name": "stdout",
     "output_type": "stream",
     "text": [
      "I would like to own a hp laptop\n",
      "I would like to own a Acer laptop\n",
      "I would like to own a Asus laptop\n",
      "I would like to own a Lenovo laptop\n",
      "I would like to own a Dell laptop\n"
     ]
    }
   ],
   "source": [
    "laptop = ['hp', 'Acer', 'Asus', 'Lenovo', 'Dell']\n",
    "for i in laptop:\n",
    "    message = f'I would like to own a {i} laptop'\n",
    "    print(message)"
   ]
  },
  {
   "cell_type": "code",
   "execution_count": 12,
   "metadata": {},
   "outputs": [
    {
     "name": "stdout",
     "output_type": "stream",
     "text": [
      "['hp', 'Acer', 'Asus', 'Lenovo', 'Dell']\n"
     ]
    }
   ],
   "source": [
    "laptop = ['hp', 'Acer', 'Asus', 'Lenovo', 'Dell']\n",
    "print(laptop)"
   ]
  },
  {
   "cell_type": "code",
   "execution_count": 13,
   "metadata": {},
   "outputs": [
    {
     "name": "stdout",
     "output_type": "stream",
     "text": [
      "['MSI', 'Acer', 'Asus', 'Lenovo', 'Dell']\n"
     ]
    }
   ],
   "source": [
    "laptop[0] = 'MSI'\n",
    "print(laptop)"
   ]
  },
  {
   "cell_type": "code",
   "execution_count": 14,
   "metadata": {},
   "outputs": [
    {
     "name": "stdout",
     "output_type": "stream",
     "text": [
      "['MSI', 'Acer', 'Asus', 'Lenovo', 'Dell', 'hp']\n"
     ]
    }
   ],
   "source": [
    "laptop.append('hp')\n",
    "print(laptop)"
   ]
  },
  {
   "cell_type": "code",
   "execution_count": 15,
   "metadata": {},
   "outputs": [
    {
     "name": "stdout",
     "output_type": "stream",
     "text": [
      "['Acer', 'Asus', 'Dell']\n"
     ]
    }
   ],
   "source": [
    "laptop = []\n",
    "laptop.append('Acer')\n",
    "laptop.append('Asus')\n",
    "laptop.append('Dell')\n",
    "print(laptop)"
   ]
  },
  {
   "cell_type": "code",
   "execution_count": 16,
   "metadata": {},
   "outputs": [
    {
     "name": "stdout",
     "output_type": "stream",
     "text": [
      "['hp', 'Acer', 'Asus', 'Dell']\n"
     ]
    }
   ],
   "source": [
    "laptop = ['Acer', 'Asus', 'Dell']\n",
    "laptop.insert(0, 'hp')\n",
    "print(laptop)"
   ]
  },
  {
   "cell_type": "code",
   "execution_count": 17,
   "metadata": {},
   "outputs": [
    {
     "name": "stdout",
     "output_type": "stream",
     "text": [
      "['Acer', 'Asus', 'Dell']\n",
      "['Asus', 'Dell']\n"
     ]
    }
   ],
   "source": [
    "laptop = ['Acer', 'Asus', 'Dell']\n",
    "print(laptop)\n",
    "del laptop[0]\n",
    "print(laptop)"
   ]
  },
  {
   "cell_type": "code",
   "execution_count": 18,
   "metadata": {},
   "outputs": [
    {
     "name": "stdout",
     "output_type": "stream",
     "text": [
      "['Acer', 'Dell']\n"
     ]
    }
   ],
   "source": [
    "laptop = ['Acer', 'Asus', 'Dell']\n",
    "del laptop[1]\n",
    "print(laptop)"
   ]
  },
  {
   "cell_type": "code",
   "execution_count": 19,
   "metadata": {},
   "outputs": [
    {
     "name": "stdout",
     "output_type": "stream",
     "text": [
      "['Acer', 'Asus', 'Dell']\n",
      "['Acer', 'Asus']\n",
      "Dell\n"
     ]
    }
   ],
   "source": [
    "laptop = ['Acer', 'Asus', 'Dell']\n",
    "print(laptop)\n",
    "\n",
    "popped_laptop = laptop.pop()\n",
    "print(laptop)\n",
    "print(popped_laptop)"
   ]
  },
  {
   "cell_type": "code",
   "execution_count": 20,
   "metadata": {},
   "outputs": [
    {
     "name": "stdout",
     "output_type": "stream",
     "text": [
      "The last laptop I owned was a Dell.\n"
     ]
    }
   ],
   "source": [
    "laptop = ['Acer', 'Asus', 'Dell']\n",
    "last_owned = laptop.pop()\n",
    "print(f'The last laptop I owned was a {last_owned.title()}.')"
   ]
  },
  {
   "cell_type": "code",
   "execution_count": 21,
   "metadata": {},
   "outputs": [
    {
     "name": "stdout",
     "output_type": "stream",
     "text": [
      "The first laptop I owned was a Acer.\n"
     ]
    }
   ],
   "source": [
    "laptop = ['Acer', 'Asus', 'Dell']\n",
    "first_owned = laptop.pop(0)\n",
    "print(f'The first laptop I owned was a {first_owned.title()}.')"
   ]
  },
  {
   "cell_type": "code",
   "execution_count": 22,
   "metadata": {},
   "outputs": [
    {
     "name": "stdout",
     "output_type": "stream",
     "text": [
      "['Acer', 'Asus', 'Dell', 'Lenovo']\n",
      "['Acer', 'Asus', 'Dell']\n"
     ]
    }
   ],
   "source": [
    "laptop = ['Acer', 'Asus', 'Dell', 'Lenovo']\n",
    "print(laptop)\n",
    "\n",
    "laptop.remove('Lenovo')\n",
    "print(laptop)"
   ]
  },
  {
   "cell_type": "code",
   "execution_count": 23,
   "metadata": {},
   "outputs": [
    {
     "name": "stdout",
     "output_type": "stream",
     "text": [
      "['Acer', 'Asus', 'Dell', 'Lenovo']\n",
      "['Acer', 'Asus', 'Dell']\n",
      "\n",
      "A Lenovo is too expensive for me.\n"
     ]
    }
   ],
   "source": [
    "laptop = ['Acer', 'Asus', 'Dell', 'Lenovo']\n",
    "print(laptop)\n",
    "\n",
    "too_expensive = 'Lenovo'\n",
    "laptop.remove(too_expensive)\n",
    "print(laptop)\n",
    "print(f'\\nA {too_expensive.title()} is too expensive for me.')"
   ]
  },
  {
   "cell_type": "code",
   "execution_count": 24,
   "metadata": {},
   "outputs": [
    {
     "name": "stdout",
     "output_type": "stream",
     "text": [
      "Hello Ram you are invited to the dinner\n",
      "Hello Shyam you are invited to the dinner\n",
      "Hello Hari you are invited to the dinner\n"
     ]
    }
   ],
   "source": [
    "invited_person = ['Ram', 'Shyam', 'Hari']\n",
    "for i in invited_person:\n",
    "    print(f'Hello {i} you are invited to the dinner')"
   ]
  },
  {
   "cell_type": "code",
   "execution_count": 25,
   "metadata": {},
   "outputs": [
    {
     "name": "stdout",
     "output_type": "stream",
     "text": [
      "Hello Ram you are invited to the dinner\n",
      "Hello Hari you are invited to the dinner\n",
      "Hello Shiva you are invited to the dinner\n"
     ]
    }
   ],
   "source": [
    "not_coming = 'Shyam'\n",
    "invited_person.remove(not_coming)\n",
    "invited_person.append('Shiva')\n",
    "for i in invited_person:\n",
    "    print(f'Hello {i} you are invited to the dinner')\n"
   ]
  },
  {
   "cell_type": "code",
   "execution_count": 35,
   "metadata": {},
   "outputs": [
    {
     "name": "stdout",
     "output_type": "stream",
     "text": [
      "['Krishna', 'Ram', 'Laxman', 'Shyam', 'Hari', 'Sita']\n",
      "Hello Krishna you are invited to the dinner\n",
      "Hello Ram you are invited to the dinner\n",
      "Hello Laxman you are invited to the dinner\n",
      "Hello Shyam you are invited to the dinner\n",
      "Hello Hari you are invited to the dinner\n",
      "Hello Sita you are invited to the dinner\n"
     ]
    }
   ],
   "source": [
    "invited_person = ['Ram', 'Shyam', 'Hari']\n",
    "invited_person.insert((0 + (len(invited_person)-1))//2, 'Laxman')\n",
    "invited_person.insert(0, 'Krishna')\n",
    "invited_person.append('Sita')\n",
    "print(invited_person)\n",
    "for i in invited_person:\n",
    "    print(f'Hello {i} you are invited to the dinner')"
   ]
  },
  {
   "cell_type": "code",
   "execution_count": 58,
   "metadata": {},
   "outputs": [
    {
     "name": "stdout",
     "output_type": "stream",
     "text": [
      "I can invite only two people for dinner\n",
      "Dear Sita I am sorry, I can't invite you to dinner\n",
      "Dear Hari I am sorry, I can't invite you to dinner\n",
      "Dear Shyam I am sorry, I can't invite you to dinner\n",
      "Dear Laxman I am sorry, I can't invite you to dinner\n",
      "Dear Krishna you are still welcome to the dinner\n",
      "Dear Ram you are still welcome to the dinner\n",
      "[]\n"
     ]
    }
   ],
   "source": [
    "print('I can invite only two people for dinner')\n",
    "invited_person = ['Krishna', 'Ram', 'Laxman', 'Shyam', 'Hari', 'Sita']\n",
    "\n",
    "while len(invited_person) != 2:\n",
    "    person = invited_person.pop()\n",
    "    print(f\"Dear {person} I am sorry, I can't invite you to dinner\")\n",
    "\n",
    "    \n",
    "for i in invited_person:\n",
    "    print(f\"Dear {i} you are still welcome to the dinner\")\n",
    "\n",
    "while len(invited_person) != 0:\n",
    "    del invited_person[0]\n",
    "\n",
    "print(invited_person)"
   ]
  },
  {
   "cell_type": "code",
   "execution_count": 59,
   "metadata": {},
   "outputs": [
    {
     "name": "stdout",
     "output_type": "stream",
     "text": [
      "['audi', 'bmw', 'subaru', 'toyota']\n"
     ]
    }
   ],
   "source": [
    "cars = ['bmw', 'audi', 'toyota', 'subaru']\n",
    "cars.sort()\n",
    "print(cars)"
   ]
  },
  {
   "cell_type": "code",
   "execution_count": 60,
   "metadata": {},
   "outputs": [
    {
     "name": "stdout",
     "output_type": "stream",
     "text": [
      "['toyota', 'subaru', 'bmw', 'audi']\n"
     ]
    }
   ],
   "source": [
    "cars.sort(reverse = True)\n",
    "print(cars)"
   ]
  },
  {
   "cell_type": "code",
   "execution_count": 61,
   "metadata": {},
   "outputs": [
    {
     "name": "stdout",
     "output_type": "stream",
     "text": [
      "Here is the original list:\n",
      "['bmw', 'audi', 'toyota', 'subaru']\n",
      "\n",
      "Here is the sorted list:\n",
      "['audi', 'bmw', 'subaru', 'toyota']\n",
      "\n",
      "Here is the original list again:\n",
      "['bmw', 'audi', 'toyota', 'subaru']\n"
     ]
    }
   ],
   "source": [
    "cars = ['bmw', 'audi', 'toyota', 'subaru']\n",
    "print('Here is the original list:')\n",
    "print(cars)\n",
    "\n",
    "print('\\nHere is the sorted list:')\n",
    "print(sorted(cars))\n",
    "\n",
    "print('\\nHere is the original list again:')\n",
    "print(cars)"
   ]
  },
  {
   "cell_type": "code",
   "execution_count": 62,
   "metadata": {},
   "outputs": [
    {
     "name": "stdout",
     "output_type": "stream",
     "text": [
      "['bmw', 'audi', 'toyota', 'subaru']\n",
      "['subaru', 'toyota', 'audi', 'bmw']\n"
     ]
    }
   ],
   "source": [
    "cars = ['bmw', 'audi', 'toyota', 'subaru']\n",
    "print(cars)\n",
    "\n",
    "cars.reverse()\n",
    "print(cars)"
   ]
  },
  {
   "cell_type": "code",
   "execution_count": 63,
   "metadata": {},
   "outputs": [
    {
     "data": {
      "text/plain": [
       "4"
      ]
     },
     "execution_count": 63,
     "metadata": {},
     "output_type": "execute_result"
    }
   ],
   "source": [
    "cars = ['bmw', 'audi', 'toyota', 'subaru']\n",
    "len(cars)"
   ]
  },
  {
   "cell_type": "code",
   "execution_count": 73,
   "metadata": {},
   "outputs": [
    {
     "name": "stdout",
     "output_type": "stream",
     "text": [
      "['Germany', 'Switzerland', 'US', 'Austrilia', 'Canada']\n",
      "['Austrilia', 'Canada', 'Germany', 'Switzerland', 'US']\n",
      "['Germany', 'Switzerland', 'US', 'Austrilia', 'Canada']\n",
      "['US', 'Switzerland', 'Germany', 'Canada', 'Austrilia']\n",
      "['Germany', 'Switzerland', 'US', 'Austrilia', 'Canada']\n",
      "['Canada', 'Austrilia', 'US', 'Switzerland', 'Germany']\n",
      "['Germany', 'Switzerland', 'US', 'Austrilia', 'Canada']\n",
      "['Austrilia', 'Canada', 'Germany', 'Switzerland', 'US']\n",
      "['US', 'Switzerland', 'Germany', 'Canada', 'Austrilia']\n"
     ]
    }
   ],
   "source": [
    "locations = ['Germany', 'Switzerland', 'US', 'Austrilia', 'Canada']\n",
    "print(locations)\n",
    "print(sorted(locations))\n",
    "print(locations)\n",
    "print(sorted(locations, reverse = True))\n",
    "print(locations)\n",
    "locations.reverse()\n",
    "print(locations)\n",
    "locations.reverse()\n",
    "print(locations)\n",
    "locations.sort()\n",
    "print(locations)\n",
    "locations.sort(reverse = True)\n",
    "print(locations)"
   ]
  }
 ],
 "metadata": {
  "kernelspec": {
   "display_name": "Python 3",
   "language": "python",
   "name": "python3"
  },
  "language_info": {
   "codemirror_mode": {
    "name": "ipython",
    "version": 3
   },
   "file_extension": ".py",
   "mimetype": "text/x-python",
   "name": "python",
   "nbconvert_exporter": "python",
   "pygments_lexer": "ipython3",
   "version": "3.12.0"
  }
 },
 "nbformat": 4,
 "nbformat_minor": 2
}
