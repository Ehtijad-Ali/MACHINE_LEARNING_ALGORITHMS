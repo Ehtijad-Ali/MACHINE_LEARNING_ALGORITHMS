{
  "nbformat": 4,
  "nbformat_minor": 0,
  "metadata": {
    "colab": {
      "provenance": []
    },
    "kernelspec": {
      "name": "python3",
      "display_name": "Python 3"
    },
    "language_info": {
      "name": "python"
    }
  },
  "cells": [
    {
      "cell_type": "code",
      "source": [
        "import numpy as np"
      ],
      "metadata": {
        "id": "MJQzijgsSi_s"
      },
      "execution_count": 3,
      "outputs": []
    },
    {
      "cell_type": "code",
      "execution_count": 21,
      "metadata": {
        "id": "QpGgUxTbR2G-"
      },
      "outputs": [],
      "source": [
        "# Evidence to say that the two population variances are not equal\n",
        "# Both the performancce is different\n",
        "\n",
        "worker1 = [18, 19, 22, 25, 27, 28,  41, 45, 51, 55]\n",
        "worker2 = [14, 15, 15, 17, 18, 22, 25, 25, 27, 34]"
      ]
    },
    {
      "cell_type": "code",
      "source": [
        "# Calculating F-test\n",
        "\n",
        "f_test = np.var(worker1) / np.var(worker2)"
      ],
      "metadata": {
        "id": "hZtoO8t_SQ98"
      },
      "execution_count": 22,
      "outputs": []
    },
    {
      "cell_type": "code",
      "source": [
        "f_test"
      ],
      "metadata": {
        "colab": {
          "base_uri": "https://localhost:8080/"
        },
        "id": "-0sUHMuMSltJ",
        "outputId": "b50935be-c1c1-4b2b-f59c-cc12fbf8ca4b"
      },
      "execution_count": 23,
      "outputs": [
        {
          "output_type": "execute_result",
          "data": {
            "text/plain": [
              "4.387122002085506"
            ]
          },
          "metadata": {},
          "execution_count": 23
        }
      ]
    },
    {
      "cell_type": "code",
      "source": [
        "## Degree of freedom\n",
        "\n",
        "df1 = len(worker1) - 1\n",
        "df2 = len(worker2) - 1\n",
        "\n",
        "significance_value = 0.05"
      ],
      "metadata": {
        "id": "a-nM3MtySmQK"
      },
      "execution_count": 24,
      "outputs": []
    },
    {
      "cell_type": "code",
      "source": [
        "import scipy.stats as stat"
      ],
      "metadata": {
        "id": "avFFGGNeS4Ib"
      },
      "execution_count": 25,
      "outputs": []
    },
    {
      "cell_type": "code",
      "source": [
        "critical_value = stat.f.ppf(q = 1 - significance_value, dfn = df1, dfd = df2)"
      ],
      "metadata": {
        "id": "WDJ9b1W4Tflq"
      },
      "execution_count": 26,
      "outputs": []
    },
    {
      "cell_type": "code",
      "source": [
        "critical_value"
      ],
      "metadata": {
        "colab": {
          "base_uri": "https://localhost:8080/"
        },
        "id": "n1QonwlmTzT6",
        "outputId": "0b5d68d3-d457-44c2-8402-be4ddff0aa2c"
      },
      "execution_count": 27,
      "outputs": [
        {
          "output_type": "execute_result",
          "data": {
            "text/plain": [
              "3.178893104458269"
            ]
          },
          "metadata": {},
          "execution_count": 27
        }
      ]
    },
    {
      "cell_type": "code",
      "source": [
        "if f_test > critical_value:\n",
        "  print('Reject the Null Hypothesis')\n",
        "else:\n",
        "  print('We fail to reject the Null Hypothesis')"
      ],
      "metadata": {
        "colab": {
          "base_uri": "https://localhost:8080/"
        },
        "id": "a0IQvTmqT6n-",
        "outputId": "d5bac0b1-284d-46f3-b194-cc6ed3ff70f2"
      },
      "execution_count": 28,
      "outputs": [
        {
          "output_type": "stream",
          "name": "stdout",
          "text": [
            "Reject the Null Hypothesis\n"
          ]
        }
      ]
    }
  ]
}