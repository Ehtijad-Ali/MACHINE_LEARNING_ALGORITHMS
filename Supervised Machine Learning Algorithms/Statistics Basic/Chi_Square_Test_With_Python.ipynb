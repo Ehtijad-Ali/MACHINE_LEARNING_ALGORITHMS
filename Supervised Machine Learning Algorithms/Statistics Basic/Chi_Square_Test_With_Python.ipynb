{
  "nbformat": 4,
  "nbformat_minor": 0,
  "metadata": {
    "colab": {
      "provenance": []
    },
    "kernelspec": {
      "name": "python3",
      "display_name": "Python 3"
    },
    "language_info": {
      "name": "python"
    }
  },
  "cells": [
    {
      "cell_type": "code",
      "execution_count": 1,
      "metadata": {
        "id": "8riypbo0MBoi"
      },
      "outputs": [],
      "source": [
        "import scipy.stats as stat\n",
        "import numpy as np"
      ]
    },
    {
      "cell_type": "code",
      "source": [
        "## No of hours student study in a weekly basis daily\n",
        "expected_data = [8,6,7,9,6,9,7]\n",
        "observed_data = [7,8,6,9,9,6,7]"
      ],
      "metadata": {
        "id": "9rHUqeTVMZTq"
      },
      "execution_count": 7,
      "outputs": []
    },
    {
      "cell_type": "code",
      "source": [
        "## Chi-Square Goodness of Fit Test\n",
        "chisquare_test_statistic, p_value = stat.chisquare(observed_data, expeted_data)"
      ],
      "metadata": {
        "id": "9P8aV3zhMwZq"
      },
      "execution_count": 8,
      "outputs": []
    },
    {
      "cell_type": "code",
      "source": [
        "chisquare_test_statistic, p_value"
      ],
      "metadata": {
        "colab": {
          "base_uri": "https://localhost:8080/"
        },
        "id": "b4P4HfE8NRv2",
        "outputId": "25e9a2aa-8927-4b2e-ae2a-ab63c80e66a3"
      },
      "execution_count": 9,
      "outputs": [
        {
          "output_type": "execute_result",
          "data": {
            "text/plain": [
              "(3.4345238095238093, 0.7526596580922865)"
            ]
          },
          "metadata": {},
          "execution_count": 9
        }
      ]
    },
    {
      "cell_type": "code",
      "source": [
        "## Find the critial value\n",
        "significane_value = 0.05\n",
        "dof = len(expected_data) - 1\n",
        "print(dof)\n",
        "critical_value = stat.chi2.ppf(1 - significane_value, dof)"
      ],
      "metadata": {
        "colab": {
          "base_uri": "https://localhost:8080/"
        },
        "id": "7gl5MRpRNXbx",
        "outputId": "91286cab-589c-4ddc-f1ec-1d2f65036c35"
      },
      "execution_count": 14,
      "outputs": [
        {
          "output_type": "stream",
          "name": "stdout",
          "text": [
            "6\n"
          ]
        }
      ]
    },
    {
      "cell_type": "code",
      "source": [
        "critical_value"
      ],
      "metadata": {
        "colab": {
          "base_uri": "https://localhost:8080/"
        },
        "id": "hJyD4RFZN7Tk",
        "outputId": "7e097abe-6436-4446-f06f-2f79b7d63f4f"
      },
      "execution_count": 15,
      "outputs": [
        {
          "output_type": "execute_result",
          "data": {
            "text/plain": [
              "12.591587243743977"
            ]
          },
          "metadata": {},
          "execution_count": 15
        }
      ]
    },
    {
      "cell_type": "code",
      "source": [
        "if chisquare_test_statistic > critical_value:\n",
        "  print('Reject the null hypothesis')\n",
        "else:\n",
        "  print('Accept the null hypothesis')"
      ],
      "metadata": {
        "colab": {
          "base_uri": "https://localhost:8080/"
        },
        "id": "EIHZ36HLOJba",
        "outputId": "85f5f9b8-f152-48e2-c426-705239876961"
      },
      "execution_count": 16,
      "outputs": [
        {
          "output_type": "stream",
          "name": "stdout",
          "text": [
            "Accept the null hypothesis\n"
          ]
        }
      ]
    }
  ]
}