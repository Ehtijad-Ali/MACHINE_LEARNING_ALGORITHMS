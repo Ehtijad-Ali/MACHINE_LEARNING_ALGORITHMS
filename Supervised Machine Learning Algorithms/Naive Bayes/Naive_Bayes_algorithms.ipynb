{
  "nbformat": 4,
  "nbformat_minor": 0,
  "metadata": {
    "colab": {
      "provenance": []
    },
    "kernelspec": {
      "name": "python3",
      "display_name": "Python 3"
    },
    "language_info": {
      "name": "python"
    }
  },
  "cells": [
    {
      "cell_type": "code",
      "execution_count": null,
      "metadata": {
        "colab": {
          "base_uri": "https://localhost:8080/",
          "height": 73
        },
        "id": "gH3fv5UTuq4W",
        "outputId": "601c6d8c-d543-4a64-f78f-fb18974cca57"
      },
      "outputs": [
        {
          "output_type": "execute_result",
          "data": {
            "text/plain": [
              "'a com[pany is looking to develop a text classification model to categories\\ncustomers reviews into a positive and negaive sentiments.They wants to use Naive Bayes\\nto automatically analyze and classify the reviews they recieve, aiming to understand the customer\\nsatisfication levels and sentiments.The company desire a model that can accurately predict weather \\nthe customer review expression are positive are negative sentiments\\n'"
            ],
            "application/vnd.google.colaboratory.intrinsic+json": {
              "type": "string"
            }
          },
          "metadata": {},
          "execution_count": 1
        }
      ],
      "source": [
        "'''a company is looking to develop a text classification model to categories\n",
        "customers reviews into a positive and negaive sentiments.They wants to use Naive Bayes\n",
        "to automatically analyze and classify the reviews they recieve, aiming to understand the customer\n",
        "satisfication levels and sentiments.The company desire a model that can accurately predict weather\n",
        "the customer review expression are positive are negative sentiments\n",
        "'''"
      ]
    },
    {
      "cell_type": "code",
      "source": [
        "import numpy as np\n",
        "from sklearn.feature_extraction.text import CountVectorizer\n",
        "from sklearn.naive_bayes import MultinomialNB"
      ],
      "metadata": {
        "id": "soKbeJswwBIc"
      },
      "execution_count": null,
      "outputs": []
    },
    {
      "cell_type": "code",
      "source": [
        "reviews = [\"I love spending time with my family.\",\n",
        "           \"The sunset at the beach was breathtaking.\",\n",
        "           \"My favorite song always puts me in a good mood.\",\n",
        "           \"I received great news today!\",\n",
        "           \"The kindness of strangers never fails to amaze me.\",\n",
        "           \"It's disheartening to see so much inequality in the world.\",\n",
        "           \"I'm exhausted from working long hours.\",\n",
        "           \"This rainy weather always puts me in a gloomy mood.\",\n",
        "           \"I'm anxious about the uncertainty of the future.\",\n",
        "           \"Receiving criticism from my boss was demoralizin\"\n",
        "           \"This homemade meal is absolutely delicious.\",\n",
        "           \"Reconnecting with old friends is always heartwarming.\",\n",
        "           \"I'm grateful for the support of my loved ones.\",\n",
        "           \"Watching my favorite movie always lifts my spirits.\",\n",
        "           \"I'm excited about the opportunities that lie ahead.\",\n",
        "           \"I'm feeling really stressed about my upcoming exams.\",\n",
        "           \"Today was just one of those days where everything went wrong.\",\n",
        "           \"Dealing with rush hour traffic is so frustrating.\",\n",
        "           \"I'm disappointed with the service at this restaurant.\",\n",
        "           \"Losing my wallet has completely ruined my day.\"]\n",
        "\n",
        "sentiments = np.array([1, 1, 1, 1, 1, 0, 0, 0, 0, 0, 1, 1, 1, 1, 1, 0, 0, 0, 0])"
      ],
      "metadata": {
        "id": "32mbohIswhhH"
      },
      "execution_count": null,
      "outputs": []
    },
    {
      "cell_type": "code",
      "source": [
        "vectorizer = CountVectorizer()\n",
        "x = vectorizer.fit_transform(reviews)"
      ],
      "metadata": {
        "id": "pSxRtrRezk5H"
      },
      "execution_count": null,
      "outputs": []
    },
    {
      "cell_type": "code",
      "source": [
        "classifier = MultinomialNB()\n",
        "classifier.fit(x, sentiments)"
      ],
      "metadata": {
        "colab": {
          "base_uri": "https://localhost:8080/",
          "height": 75
        },
        "id": "6RS9minLz6PU",
        "outputId": "1a8f06b8-ab3d-4a07-88e3-be01bb538ed2"
      },
      "execution_count": null,
      "outputs": [
        {
          "output_type": "execute_result",
          "data": {
            "text/plain": [
              "MultinomialNB()"
            ],
            "text/html": [
              "<style>#sk-container-id-1 {color: black;background-color: white;}#sk-container-id-1 pre{padding: 0;}#sk-container-id-1 div.sk-toggleable {background-color: white;}#sk-container-id-1 label.sk-toggleable__label {cursor: pointer;display: block;width: 100%;margin-bottom: 0;padding: 0.3em;box-sizing: border-box;text-align: center;}#sk-container-id-1 label.sk-toggleable__label-arrow:before {content: \"▸\";float: left;margin-right: 0.25em;color: #696969;}#sk-container-id-1 label.sk-toggleable__label-arrow:hover:before {color: black;}#sk-container-id-1 div.sk-estimator:hover label.sk-toggleable__label-arrow:before {color: black;}#sk-container-id-1 div.sk-toggleable__content {max-height: 0;max-width: 0;overflow: hidden;text-align: left;background-color: #f0f8ff;}#sk-container-id-1 div.sk-toggleable__content pre {margin: 0.2em;color: black;border-radius: 0.25em;background-color: #f0f8ff;}#sk-container-id-1 input.sk-toggleable__control:checked~div.sk-toggleable__content {max-height: 200px;max-width: 100%;overflow: auto;}#sk-container-id-1 input.sk-toggleable__control:checked~label.sk-toggleable__label-arrow:before {content: \"▾\";}#sk-container-id-1 div.sk-estimator input.sk-toggleable__control:checked~label.sk-toggleable__label {background-color: #d4ebff;}#sk-container-id-1 div.sk-label input.sk-toggleable__control:checked~label.sk-toggleable__label {background-color: #d4ebff;}#sk-container-id-1 input.sk-hidden--visually {border: 0;clip: rect(1px 1px 1px 1px);clip: rect(1px, 1px, 1px, 1px);height: 1px;margin: -1px;overflow: hidden;padding: 0;position: absolute;width: 1px;}#sk-container-id-1 div.sk-estimator {font-family: monospace;background-color: #f0f8ff;border: 1px dotted black;border-radius: 0.25em;box-sizing: border-box;margin-bottom: 0.5em;}#sk-container-id-1 div.sk-estimator:hover {background-color: #d4ebff;}#sk-container-id-1 div.sk-parallel-item::after {content: \"\";width: 100%;border-bottom: 1px solid gray;flex-grow: 1;}#sk-container-id-1 div.sk-label:hover label.sk-toggleable__label {background-color: #d4ebff;}#sk-container-id-1 div.sk-serial::before {content: \"\";position: absolute;border-left: 1px solid gray;box-sizing: border-box;top: 0;bottom: 0;left: 50%;z-index: 0;}#sk-container-id-1 div.sk-serial {display: flex;flex-direction: column;align-items: center;background-color: white;padding-right: 0.2em;padding-left: 0.2em;position: relative;}#sk-container-id-1 div.sk-item {position: relative;z-index: 1;}#sk-container-id-1 div.sk-parallel {display: flex;align-items: stretch;justify-content: center;background-color: white;position: relative;}#sk-container-id-1 div.sk-item::before, #sk-container-id-1 div.sk-parallel-item::before {content: \"\";position: absolute;border-left: 1px solid gray;box-sizing: border-box;top: 0;bottom: 0;left: 50%;z-index: -1;}#sk-container-id-1 div.sk-parallel-item {display: flex;flex-direction: column;z-index: 1;position: relative;background-color: white;}#sk-container-id-1 div.sk-parallel-item:first-child::after {align-self: flex-end;width: 50%;}#sk-container-id-1 div.sk-parallel-item:last-child::after {align-self: flex-start;width: 50%;}#sk-container-id-1 div.sk-parallel-item:only-child::after {width: 0;}#sk-container-id-1 div.sk-dashed-wrapped {border: 1px dashed gray;margin: 0 0.4em 0.5em 0.4em;box-sizing: border-box;padding-bottom: 0.4em;background-color: white;}#sk-container-id-1 div.sk-label label {font-family: monospace;font-weight: bold;display: inline-block;line-height: 1.2em;}#sk-container-id-1 div.sk-label-container {text-align: center;}#sk-container-id-1 div.sk-container {/* jupyter's `normalize.less` sets `[hidden] { display: none; }` but bootstrap.min.css set `[hidden] { display: none !important; }` so we also need the `!important` here to be able to override the default hidden behavior on the sphinx rendered scikit-learn.org. See: https://github.com/scikit-learn/scikit-learn/issues/21755 */display: inline-block !important;position: relative;}#sk-container-id-1 div.sk-text-repr-fallback {display: none;}</style><div id=\"sk-container-id-1\" class=\"sk-top-container\"><div class=\"sk-text-repr-fallback\"><pre>MultinomialNB()</pre><b>In a Jupyter environment, please rerun this cell to show the HTML representation or trust the notebook. <br />On GitHub, the HTML representation is unable to render, please try loading this page with nbviewer.org.</b></div><div class=\"sk-container\" hidden><div class=\"sk-item\"><div class=\"sk-estimator sk-toggleable\"><input class=\"sk-toggleable__control sk-hidden--visually\" id=\"sk-estimator-id-1\" type=\"checkbox\" checked><label for=\"sk-estimator-id-1\" class=\"sk-toggleable__label sk-toggleable__label-arrow\">MultinomialNB</label><div class=\"sk-toggleable__content\"><pre>MultinomialNB()</pre></div></div></div></div></div>"
            ]
          },
          "metadata": {},
          "execution_count": 10
        }
      ]
    },
    {
      "cell_type": "code",
      "source": [
        "def classify_new_reviews():\n",
        "  review_vectorized = vectorizer.transform([reviews])\n",
        "  prediction = classifier.predict(review_vectorized)\n",
        "  if prediction[0] == 1:\n",
        "     print('positive sentiment')\n",
        "  else:\n",
        "     print('negative sentiment')"
      ],
      "metadata": {
        "id": "qBoSYQeN0SFg"
      },
      "execution_count": null,
      "outputs": []
    },
    {
      "cell_type": "code",
      "source": [
        "def classify_new_reviews():\n",
        "    review_vectorized = vectorizer.transform([user_review])\n",
        "    prediction = classifier.predict(review_vectorized)\n",
        "    if prediction[0] == 1:\n",
        "        print('positive sentiment')\n",
        "    else:\n",
        "        print('negative sentiment')\n",
        "\n",
        "# user input\n",
        "user_review = input('Enter the user review: ')\n",
        "result = classify_new_reviews()\n",
        "print(f\"the reviews '{user_review}' is classify as '{result}'\")\n",
        "\n"
      ],
      "metadata": {
        "colab": {
          "base_uri": "https://localhost:8080/"
        },
        "id": "P604yfqP1zHV",
        "outputId": "a9488f52-e9e9-451e-9de1-1a1b55526526"
      },
      "execution_count": null,
      "outputs": [
        {
          "output_type": "stream",
          "name": "stdout",
          "text": [
            "Enter the user review: i love you\n",
            "positive sentiment\n",
            "the reviews 'i love you' is classify as 'None'\n"
          ]
        }
      ]
    }
  ]
}