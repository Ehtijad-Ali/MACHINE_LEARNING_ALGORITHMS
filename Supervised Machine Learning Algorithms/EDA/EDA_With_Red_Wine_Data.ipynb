{
  "nbformat": 4,
  "nbformat_minor": 0,
  "metadata": {
    "colab": {
      "provenance": []
    },
    "kernelspec": {
      "name": "python3",
      "display_name": "Python 3"
    },
    "language_info": {
      "name": "python"
    }
  },
  "cells": [
    {
      "cell_type": "markdown",
      "source": [
        "Dataset Information"
      ],
      "metadata": {
        "id": "XwNLu32QPDvW"
      }
    },
    {
      "cell_type": "markdown",
      "source": [
        "The two datasets are related to red and white variants of the Portuguese \"Vinho Verde\" wine.Due to privacy and logistic issues, only physicochemical (inputs) and sensory (the output) variables are available (e.g. there is no data about grape types, wine brand, wine selling price, etc.).\n",
        "\n",
        "These datasets can be viewed as classification or regression tasks.  The classes are ordered and not balanced (e.g. there are many more normal wines than excellent or poor ones). Outlier detection algorithms could be used to detect the few excellent or poor wines. Also, we are not sure if all input variables are relevant. So it could be interesting to test feature selection methods."
      ],
      "metadata": {
        "id": "ENvilE-QPMPM"
      }
    },
    {
      "cell_type": "markdown",
      "source": [
        "Attribute Information"
      ],
      "metadata": {
        "id": "WNqsYM2tPaNd"
      }
    },
    {
      "cell_type": "markdown",
      "source": [
        "Input variables (based on physicochemical tests):                                     \n",
        "   1 - fixed acidity\\\n",
        "   2 - volatile acidity\\\n",
        "   3 - citric acid\\\n",
        "   4 - residual sugar\\\n",
        "   5 - chlorides\\\n",
        "   6 - free sulfur dioxide\\\n",
        "   7 - total sulfur dioxide\\\n",
        "   8 - density\\\n",
        "   9 - pH\\\n",
        "   10 - sulphates\\\n",
        "   11 - alcohol"
      ],
      "metadata": {
        "id": "nA1Qgy2WPkHL"
      }
    },
    {
      "cell_type": "code",
      "execution_count": 36,
      "metadata": {
        "id": "Al8Cytm1OUVB"
      },
      "outputs": [],
      "source": [
        "# import pandas as pd\n",
        "# df = pd.read_csv('winequality-red.csv')"
      ]
    },
    {
      "cell_type": "code",
      "source": [
        "# summary of the dataset\n",
        "# df.info()"
      ],
      "metadata": {
        "id": "p-A3INbiSDnh"
      },
      "execution_count": 37,
      "outputs": []
    },
    {
      "cell_type": "code",
      "source": [
        "# descriptive summary\n",
        "# df.describe()"
      ],
      "metadata": {
        "id": "HcjLp7kKSUNh"
      },
      "execution_count": 38,
      "outputs": []
    },
    {
      "cell_type": "code",
      "source": [
        "# shape of the dataset\n",
        "# df.shape() no of rows and columns"
      ],
      "metadata": {
        "id": "P--4s_6qeDCx"
      },
      "execution_count": 39,
      "outputs": []
    },
    {
      "cell_type": "code",
      "source": [
        "# list down all the columns\n",
        "# df.columns"
      ],
      "metadata": {
        "id": "0ATB-uo_erMv"
      },
      "execution_count": 40,
      "outputs": []
    },
    {
      "cell_type": "code",
      "source": [
        "# df['quality'].unique()"
      ],
      "metadata": {
        "id": "GqL_-tOMewbo"
      },
      "execution_count": 41,
      "outputs": []
    },
    {
      "cell_type": "code",
      "source": [
        "# Conclustion -- Imbalanced Dataset\n",
        "# df['quality'].value_counts()"
      ],
      "metadata": {
        "id": "5sWAdx7Te4NA"
      },
      "execution_count": 42,
      "outputs": []
    },
    {
      "cell_type": "code",
      "source": [
        "# Misiing values\n",
        "# df.isnull().sum()"
      ],
      "metadata": {
        "id": "hWQEI50LfCLL"
      },
      "execution_count": 43,
      "outputs": []
    },
    {
      "cell_type": "code",
      "source": [
        "# To check duplicate records\n",
        "# df.duplicated()\n",
        "# df[df.duplicated()]"
      ],
      "metadata": {
        "id": "161ST3infQA1"
      },
      "execution_count": 44,
      "outputs": []
    },
    {
      "cell_type": "code",
      "source": [
        "## Removing the duplicate records\n",
        "# df.drop_duplicates(inplace = True)"
      ],
      "metadata": {
        "id": "QB3YeZLxfYTp"
      },
      "execution_count": 45,
      "outputs": []
    },
    {
      "cell_type": "code",
      "source": [
        "# df.corr()"
      ],
      "metadata": {
        "id": "hosOxRPKfqQ3"
      },
      "execution_count": 46,
      "outputs": []
    },
    {
      "cell_type": "code",
      "source": [
        "# df.shape()"
      ],
      "metadata": {
        "id": "0OHt5a-5fvta"
      },
      "execution_count": 47,
      "outputs": []
    },
    {
      "cell_type": "code",
      "source": [
        "# import matplotlib.pyplot as plt\n",
        "# import seaborn as sns\n",
        "# plt.figure(figsize = (10,6))\n",
        "# sns.heatmap(df.corr(),annot = True)"
      ],
      "metadata": {
        "id": "OXfSxvS7f1-a"
      },
      "execution_count": 48,
      "outputs": []
    },
    {
      "cell_type": "code",
      "source": [
        "# df.quality.value_counts().plot(kind = 'bar')"
      ],
      "metadata": {
        "id": "wH76EqsNgBNf"
      },
      "execution_count": 49,
      "outputs": []
    },
    {
      "cell_type": "code",
      "source": [
        "# sns.histplot(df['fixed acidity'])"
      ],
      "metadata": {
        "id": "11evv63Vg8eP"
      },
      "execution_count": 50,
      "outputs": []
    },
    {
      "cell_type": "code",
      "source": [
        "# for i in df.columns:\n",
        "#  sns.histplot(df['i'], kde = True)"
      ],
      "metadata": {
        "id": "_1_2iZwrhMoQ"
      },
      "execution_count": 51,
      "outputs": []
    },
    {
      "cell_type": "code",
      "source": [
        "# categorical plot\n",
        "# sns.catplot(x = 'quality', y = 'alcohol', data = df, kind = 'box')\n",
        "# sns.scatterplot(x = 'quality', y = 'pH', hue = 'qauality', data = df)"
      ],
      "metadata": {
        "id": "oAuHNDCEhhG3"
      },
      "execution_count": 53,
      "outputs": []
    }
  ]
}