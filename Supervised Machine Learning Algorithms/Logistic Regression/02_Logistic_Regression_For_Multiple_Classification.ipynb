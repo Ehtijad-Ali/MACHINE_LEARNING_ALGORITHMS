{
 "cells": [
  {
   "cell_type": "code",
   "execution_count": 2,
   "metadata": {},
   "outputs": [],
   "source": [
    "# make a prediction with a multinomial logistic regression model\n",
    "from sklearn.datasets import make_classification\n",
    "from sklearn.linear_model import LogisticRegression\n",
    "\n",
    "#define dataset\n",
    "X, y = make_classification(n_samples = 1000, n_features = 10, n_informative = 5, n_redundant = 5, n_classes = 3, random_state = 1)"
   ]
  },
  {
   "cell_type": "code",
   "execution_count": 3,
   "metadata": {},
   "outputs": [],
   "source": [
    "# define the multinomial logistic regression model for multiclass classification\n",
    "model = LogisticRegression(multi_class = 'multinomial', solver = 'lbfgs')"
   ]
  },
  {
   "cell_type": "code",
   "execution_count": 7,
   "metadata": {},
   "outputs": [],
   "source": [
    "# Train test split\n",
    "from sklearn.model_selection import train_test_split\n",
    "X_train, X_test, y_train, y_test = train_test_split(X, y, test_size= 0.20, random_state= 42)"
   ]
  },
  {
   "cell_type": "code",
   "execution_count": 8,
   "metadata": {},
   "outputs": [
    {
     "data": {
      "text/html": [
       "<style>#sk-container-id-1 {color: black;}#sk-container-id-1 pre{padding: 0;}#sk-container-id-1 div.sk-toggleable {background-color: white;}#sk-container-id-1 label.sk-toggleable__label {cursor: pointer;display: block;width: 100%;margin-bottom: 0;padding: 0.3em;box-sizing: border-box;text-align: center;}#sk-container-id-1 label.sk-toggleable__label-arrow:before {content: \"▸\";float: left;margin-right: 0.25em;color: #696969;}#sk-container-id-1 label.sk-toggleable__label-arrow:hover:before {color: black;}#sk-container-id-1 div.sk-estimator:hover label.sk-toggleable__label-arrow:before {color: black;}#sk-container-id-1 div.sk-toggleable__content {max-height: 0;max-width: 0;overflow: hidden;text-align: left;background-color: #f0f8ff;}#sk-container-id-1 div.sk-toggleable__content pre {margin: 0.2em;color: black;border-radius: 0.25em;background-color: #f0f8ff;}#sk-container-id-1 input.sk-toggleable__control:checked~div.sk-toggleable__content {max-height: 200px;max-width: 100%;overflow: auto;}#sk-container-id-1 input.sk-toggleable__control:checked~label.sk-toggleable__label-arrow:before {content: \"▾\";}#sk-container-id-1 div.sk-estimator input.sk-toggleable__control:checked~label.sk-toggleable__label {background-color: #d4ebff;}#sk-container-id-1 div.sk-label input.sk-toggleable__control:checked~label.sk-toggleable__label {background-color: #d4ebff;}#sk-container-id-1 input.sk-hidden--visually {border: 0;clip: rect(1px 1px 1px 1px);clip: rect(1px, 1px, 1px, 1px);height: 1px;margin: -1px;overflow: hidden;padding: 0;position: absolute;width: 1px;}#sk-container-id-1 div.sk-estimator {font-family: monospace;background-color: #f0f8ff;border: 1px dotted black;border-radius: 0.25em;box-sizing: border-box;margin-bottom: 0.5em;}#sk-container-id-1 div.sk-estimator:hover {background-color: #d4ebff;}#sk-container-id-1 div.sk-parallel-item::after {content: \"\";width: 100%;border-bottom: 1px solid gray;flex-grow: 1;}#sk-container-id-1 div.sk-label:hover label.sk-toggleable__label {background-color: #d4ebff;}#sk-container-id-1 div.sk-serial::before {content: \"\";position: absolute;border-left: 1px solid gray;box-sizing: border-box;top: 0;bottom: 0;left: 50%;z-index: 0;}#sk-container-id-1 div.sk-serial {display: flex;flex-direction: column;align-items: center;background-color: white;padding-right: 0.2em;padding-left: 0.2em;position: relative;}#sk-container-id-1 div.sk-item {position: relative;z-index: 1;}#sk-container-id-1 div.sk-parallel {display: flex;align-items: stretch;justify-content: center;background-color: white;position: relative;}#sk-container-id-1 div.sk-item::before, #sk-container-id-1 div.sk-parallel-item::before {content: \"\";position: absolute;border-left: 1px solid gray;box-sizing: border-box;top: 0;bottom: 0;left: 50%;z-index: -1;}#sk-container-id-1 div.sk-parallel-item {display: flex;flex-direction: column;z-index: 1;position: relative;background-color: white;}#sk-container-id-1 div.sk-parallel-item:first-child::after {align-self: flex-end;width: 50%;}#sk-container-id-1 div.sk-parallel-item:last-child::after {align-self: flex-start;width: 50%;}#sk-container-id-1 div.sk-parallel-item:only-child::after {width: 0;}#sk-container-id-1 div.sk-dashed-wrapped {border: 1px dashed gray;margin: 0 0.4em 0.5em 0.4em;box-sizing: border-box;padding-bottom: 0.4em;background-color: white;}#sk-container-id-1 div.sk-label label {font-family: monospace;font-weight: bold;display: inline-block;line-height: 1.2em;}#sk-container-id-1 div.sk-label-container {text-align: center;}#sk-container-id-1 div.sk-container {/* jupyter's `normalize.less` sets `[hidden] { display: none; }` but bootstrap.min.css set `[hidden] { display: none !important; }` so we also need the `!important` here to be able to override the default hidden behavior on the sphinx rendered scikit-learn.org. See: https://github.com/scikit-learn/scikit-learn/issues/21755 */display: inline-block !important;position: relative;}#sk-container-id-1 div.sk-text-repr-fallback {display: none;}</style><div id=\"sk-container-id-1\" class=\"sk-top-container\"><div class=\"sk-text-repr-fallback\"><pre>LogisticRegression(multi_class=&#x27;multinomial&#x27;)</pre><b>In a Jupyter environment, please rerun this cell to show the HTML representation or trust the notebook. <br />On GitHub, the HTML representation is unable to render, please try loading this page with nbviewer.org.</b></div><div class=\"sk-container\" hidden><div class=\"sk-item\"><div class=\"sk-estimator sk-toggleable\"><input class=\"sk-toggleable__control sk-hidden--visually\" id=\"sk-estimator-id-1\" type=\"checkbox\" checked><label for=\"sk-estimator-id-1\" class=\"sk-toggleable__label sk-toggleable__label-arrow\">LogisticRegression</label><div class=\"sk-toggleable__content\"><pre>LogisticRegression(multi_class=&#x27;multinomial&#x27;)</pre></div></div></div></div></div>"
      ],
      "text/plain": [
       "LogisticRegression(multi_class='multinomial')"
      ]
     },
     "execution_count": 8,
     "metadata": {},
     "output_type": "execute_result"
    }
   ],
   "source": [
    "# Train test split\n",
    "model.fit(X_train, y_train)"
   ]
  },
  {
   "cell_type": "code",
   "execution_count": 9,
   "metadata": {},
   "outputs": [],
   "source": [
    "y_pred = model.predict(X_test)"
   ]
  },
  {
   "cell_type": "code",
   "execution_count": 10,
   "metadata": {},
   "outputs": [
    {
     "data": {
      "text/plain": [
       "array([1, 1, 0, 2, 1, 2, 2, 2, 0, 0, 2, 0, 0, 1, 1, 0, 1, 2, 0, 0, 1, 0,\n",
       "       2, 1, 0, 1, 1, 0, 2, 2, 0, 1, 0, 0, 0, 2, 0, 2, 1, 0, 0, 0, 1, 0,\n",
       "       1, 1, 0, 0, 0, 2, 1, 2, 0, 2, 2, 2, 0, 1, 1, 0, 0, 2, 0, 2, 0, 0,\n",
       "       2, 1, 0, 0, 2, 2, 2, 1, 1, 2, 2, 2, 2, 2, 0, 1, 0, 1, 2, 0, 2, 2,\n",
       "       1, 1, 2, 0, 0, 0, 1, 0, 0, 0, 1, 0, 0, 1, 0, 1, 0, 0, 1, 0, 2, 1,\n",
       "       0, 1, 1, 2, 2, 2, 1, 2, 0, 0, 2, 1, 0, 1, 1, 1, 0, 0, 0, 0, 0, 0,\n",
       "       2, 2, 2, 2, 2, 2, 0, 1, 0, 1, 0, 1, 2, 0, 1, 0, 2, 0, 0, 1, 1, 0,\n",
       "       2, 0, 1, 0, 2, 1, 2, 0, 1, 0, 0, 1, 2, 1, 0, 2, 0, 1, 1, 2, 1, 0,\n",
       "       2, 1, 1, 0, 1, 0, 1, 0, 2, 0, 0, 0, 0, 0, 1, 0, 0, 1, 1, 0, 0, 2,\n",
       "       1, 0])"
      ]
     },
     "execution_count": 10,
     "metadata": {},
     "output_type": "execute_result"
    }
   ],
   "source": [
    "y_pred"
   ]
  },
  {
   "cell_type": "code",
   "execution_count": 11,
   "metadata": {},
   "outputs": [
    {
     "data": {
      "text/plain": [
       "array([[1.15169414e-01, 5.68586039e-01, 3.16244547e-01],\n",
       "       [4.80037092e-02, 9.26497281e-01, 2.54990100e-02],\n",
       "       [7.39083117e-01, 1.58030592e-01, 1.02886291e-01],\n",
       "       [6.15641365e-03, 3.05251702e-02, 9.63318416e-01],\n",
       "       [6.62206495e-02, 8.54665639e-01, 7.91137112e-02],\n",
       "       [1.02420301e-01, 3.08298672e-01, 5.89281026e-01],\n",
       "       [3.52500959e-01, 2.28583719e-01, 4.18915321e-01],\n",
       "       [2.91329565e-01, 1.85220163e-01, 5.23450272e-01],\n",
       "       [5.08134607e-01, 1.95872908e-01, 2.95992485e-01],\n",
       "       [6.59115125e-01, 2.26139304e-01, 1.14745571e-01],\n",
       "       [4.22598637e-02, 3.22737673e-01, 6.35002464e-01],\n",
       "       [4.68678082e-01, 1.25850473e-01, 4.05471445e-01],\n",
       "       [8.82693591e-01, 2.14090223e-02, 9.58973868e-02],\n",
       "       [1.08541774e-01, 6.94607799e-01, 1.96850427e-01],\n",
       "       [6.94036698e-02, 8.59751313e-01, 7.08450176e-02],\n",
       "       [5.01273221e-01, 2.15124044e-01, 2.83602735e-01],\n",
       "       [1.11654135e-01, 8.12509769e-01, 7.58360961e-02],\n",
       "       [6.20393551e-03, 2.67645265e-01, 7.26150799e-01],\n",
       "       [6.63081299e-01, 4.88246621e-02, 2.88094039e-01],\n",
       "       [6.80287926e-01, 8.43662820e-02, 2.35345792e-01],\n",
       "       [1.41700099e-02, 8.82233831e-01, 1.03596159e-01],\n",
       "       [4.40396518e-01, 2.54294308e-01, 3.05309174e-01],\n",
       "       [2.17629189e-01, 2.17579483e-01, 5.64791328e-01],\n",
       "       [9.56581372e-03, 8.42618704e-01, 1.47815482e-01],\n",
       "       [7.90769296e-01, 1.68996759e-01, 4.02339450e-02],\n",
       "       [3.40651775e-01, 6.27730354e-01, 3.16178709e-02],\n",
       "       [2.92856696e-01, 4.76400590e-01, 2.30742714e-01],\n",
       "       [7.54621412e-01, 1.63177146e-01, 8.22014416e-02],\n",
       "       [1.92819426e-02, 8.41734275e-02, 8.96544630e-01],\n",
       "       [4.17948492e-02, 2.03056140e-01, 7.55149011e-01],\n",
       "       [7.79549046e-01, 5.45308755e-03, 2.14997866e-01],\n",
       "       [7.93276983e-02, 8.93972554e-01, 2.66997480e-02],\n",
       "       [5.61201433e-01, 9.22800528e-02, 3.46518514e-01],\n",
       "       [4.51370129e-01, 4.19987676e-01, 1.28642195e-01],\n",
       "       [6.62101210e-01, 2.70547719e-02, 3.10844018e-01],\n",
       "       [3.49621509e-01, 2.64820203e-01, 3.85558288e-01],\n",
       "       [5.05270734e-01, 1.34818152e-01, 3.59911114e-01],\n",
       "       [3.48980026e-01, 2.04141042e-01, 4.46878932e-01],\n",
       "       [1.28870559e-01, 8.43137728e-01, 2.79917129e-02],\n",
       "       [6.55155836e-01, 9.69042989e-02, 2.47939865e-01],\n",
       "       [5.28906808e-01, 1.90169861e-01, 2.80923331e-01],\n",
       "       [7.99242321e-01, 1.68736996e-01, 3.20206834e-02],\n",
       "       [1.46264155e-01, 7.13817122e-01, 1.39918723e-01],\n",
       "       [3.68289573e-01, 3.48790893e-01, 2.82919535e-01],\n",
       "       [8.95941446e-02, 8.93321213e-01, 1.70846427e-02],\n",
       "       [9.38074785e-02, 8.49778909e-01, 5.64136124e-02],\n",
       "       [6.02755314e-01, 7.35943580e-02, 3.23650328e-01],\n",
       "       [6.09386622e-01, 3.85184535e-02, 3.52094925e-01],\n",
       "       [4.23933802e-01, 3.25356125e-01, 2.50710074e-01],\n",
       "       [9.96960381e-02, 1.93647409e-01, 7.06656553e-01],\n",
       "       [3.54240255e-02, 9.31033070e-01, 3.35429048e-02],\n",
       "       [3.57757713e-01, 2.10496212e-01, 4.31746074e-01],\n",
       "       [5.22593461e-01, 2.65692916e-01, 2.11713623e-01],\n",
       "       [1.65358902e-02, 4.85933678e-01, 4.97530431e-01],\n",
       "       [8.40619426e-02, 2.33426008e-01, 6.82512050e-01],\n",
       "       [5.74879763e-02, 1.74380730e-01, 7.68131294e-01],\n",
       "       [5.15393106e-01, 1.37552004e-01, 3.47054890e-01],\n",
       "       [2.89238217e-01, 6.30500239e-01, 8.02615434e-02],\n",
       "       [3.70956679e-01, 5.00657510e-01, 1.28385811e-01],\n",
       "       [5.78273440e-01, 7.21449543e-02, 3.49581605e-01],\n",
       "       [5.37676105e-01, 7.00384227e-02, 3.92285472e-01],\n",
       "       [1.10403792e-01, 4.03376328e-01, 4.86219879e-01],\n",
       "       [9.64425659e-01, 9.29566274e-03, 2.62786778e-02],\n",
       "       [1.53404406e-01, 1.17698294e-01, 7.28897300e-01],\n",
       "       [5.84601600e-01, 1.61584494e-02, 3.99239950e-01],\n",
       "       [4.88328451e-01, 4.35503901e-01, 7.61676472e-02],\n",
       "       [1.94801629e-02, 1.59343315e-02, 9.64585506e-01],\n",
       "       [3.04047252e-01, 4.94594041e-01, 2.01358707e-01],\n",
       "       [5.39270095e-01, 1.26445166e-01, 3.34284739e-01],\n",
       "       [5.82251306e-01, 3.23087932e-01, 9.46607622e-02],\n",
       "       [2.41602011e-02, 3.12911040e-01, 6.62928759e-01],\n",
       "       [3.47889368e-01, 1.82674726e-02, 6.33843159e-01],\n",
       "       [4.23171619e-01, 1.32650159e-02, 5.63563365e-01],\n",
       "       [7.16776050e-02, 8.83586775e-01, 4.47356197e-02],\n",
       "       [4.08669856e-01, 4.74198439e-01, 1.17131706e-01],\n",
       "       [8.64506273e-02, 2.55408323e-01, 6.58141050e-01],\n",
       "       [5.87327665e-02, 2.25776959e-01, 7.15490275e-01],\n",
       "       [1.63291542e-01, 1.56764453e-01, 6.79944005e-01],\n",
       "       [8.64420199e-02, 3.81802523e-01, 5.31755457e-01],\n",
       "       [2.70477845e-01, 1.44980225e-01, 5.84541930e-01],\n",
       "       [9.62603851e-01, 3.04314305e-03, 3.43530061e-02],\n",
       "       [5.10383065e-02, 6.69453248e-01, 2.79508446e-01],\n",
       "       [8.78902014e-01, 4.05764071e-02, 8.05215785e-02],\n",
       "       [1.69253576e-01, 6.87736575e-01, 1.43009849e-01],\n",
       "       [5.15110604e-02, 4.94573704e-02, 8.99031569e-01],\n",
       "       [5.36535808e-01, 1.18999618e-01, 3.44464574e-01],\n",
       "       [6.31087180e-02, 2.05564639e-01, 7.31326643e-01],\n",
       "       [3.10645821e-02, 3.53555536e-01, 6.15379881e-01],\n",
       "       [3.17512836e-01, 4.63000393e-01, 2.19486772e-01],\n",
       "       [2.26896630e-01, 6.52092607e-01, 1.21010763e-01],\n",
       "       [3.42602898e-01, 1.91776272e-01, 4.65620830e-01],\n",
       "       [8.57019289e-01, 1.27808706e-01, 1.51720056e-02],\n",
       "       [7.25763120e-01, 1.89440741e-01, 8.47961389e-02],\n",
       "       [6.37050134e-01, 1.48125063e-01, 2.14824803e-01],\n",
       "       [1.36647845e-01, 7.41245418e-01, 1.22106738e-01],\n",
       "       [8.50776278e-01, 4.52182099e-02, 1.04005512e-01],\n",
       "       [7.77879740e-01, 1.96311843e-01, 2.58084164e-02],\n",
       "       [5.77259500e-01, 2.39255058e-02, 3.98814994e-01],\n",
       "       [1.65514585e-02, 9.03649369e-01, 7.97991725e-02],\n",
       "       [4.80009057e-01, 2.55186613e-01, 2.64804330e-01],\n",
       "       [8.23585662e-01, 4.51057091e-03, 1.71903767e-01],\n",
       "       [2.27199827e-01, 6.65027732e-01, 1.07772441e-01],\n",
       "       [6.12947378e-01, 1.05723693e-02, 3.76480253e-01],\n",
       "       [2.18977265e-01, 5.42303357e-01, 2.38719378e-01],\n",
       "       [5.51986003e-01, 8.39097748e-02, 3.64104222e-01],\n",
       "       [6.15856497e-01, 9.36671296e-02, 2.90476373e-01],\n",
       "       [1.47809011e-01, 7.37588661e-01, 1.14602328e-01],\n",
       "       [6.13955849e-01, 4.52153912e-02, 3.40828760e-01],\n",
       "       [1.92664787e-02, 4.73572888e-02, 9.33376233e-01],\n",
       "       [3.02477847e-01, 5.54714993e-01, 1.42807160e-01],\n",
       "       [8.66437527e-01, 5.45098891e-02, 7.90525839e-02],\n",
       "       [1.45880643e-01, 5.79428951e-01, 2.74690406e-01],\n",
       "       [1.98286224e-02, 9.42337777e-01, 3.78336006e-02],\n",
       "       [2.28790253e-01, 9.10229857e-02, 6.80186761e-01],\n",
       "       [1.69288502e-01, 1.39219293e-01, 6.91492205e-01],\n",
       "       [3.30684471e-01, 2.78253636e-01, 3.91061892e-01],\n",
       "       [1.31418493e-01, 8.14114746e-01, 5.44667608e-02],\n",
       "       [2.45290050e-01, 1.91813267e-01, 5.62896684e-01],\n",
       "       [8.19073039e-01, 8.33162476e-02, 9.76107133e-02],\n",
       "       [4.83521864e-01, 2.45404963e-01, 2.71073173e-01],\n",
       "       [3.98549781e-02, 2.47669327e-01, 7.12475695e-01],\n",
       "       [3.73536765e-01, 4.54505765e-01, 1.71957471e-01],\n",
       "       [5.91507765e-01, 1.17125755e-01, 2.91366480e-01],\n",
       "       [5.03739644e-02, 5.87848064e-01, 3.61777972e-01],\n",
       "       [3.17469571e-01, 6.74681836e-01, 7.84859343e-03],\n",
       "       [2.74888854e-01, 5.34636858e-01, 1.90474288e-01],\n",
       "       [4.95767359e-01, 1.52100942e-01, 3.52131699e-01],\n",
       "       [8.50028548e-01, 1.27411655e-01, 2.25597967e-02],\n",
       "       [5.10759993e-01, 2.20403267e-01, 2.68836739e-01],\n",
       "       [6.01212423e-01, 5.84663439e-02, 3.40321233e-01],\n",
       "       [6.57200075e-01, 3.17385953e-01, 2.54139721e-02],\n",
       "       [7.33141817e-01, 5.84077943e-02, 2.08450389e-01],\n",
       "       [6.08172647e-02, 2.72829773e-01, 6.66352962e-01],\n",
       "       [9.61941621e-02, 3.86212068e-02, 8.65184631e-01],\n",
       "       [6.98187226e-02, 4.64033493e-01, 4.66147785e-01],\n",
       "       [1.10065779e-01, 1.28372474e-01, 7.61561747e-01],\n",
       "       [2.62890242e-01, 1.26679567e-01, 6.10430191e-01],\n",
       "       [1.60907910e-01, 1.07827489e-01, 7.31264601e-01],\n",
       "       [7.42425397e-01, 5.32556703e-02, 2.04318933e-01],\n",
       "       [4.21685932e-02, 5.19363387e-01, 4.38468020e-01],\n",
       "       [5.06276919e-01, 4.24951629e-01, 6.87714527e-02],\n",
       "       [1.88025271e-01, 8.02265757e-01, 9.70897187e-03],\n",
       "       [4.42934442e-01, 3.53219521e-01, 2.03846037e-01],\n",
       "       [1.48329981e-01, 8.16752693e-01, 3.49173262e-02],\n",
       "       [1.59256361e-01, 1.01320391e-01, 7.39423248e-01],\n",
       "       [5.80120425e-01, 1.12150405e-01, 3.07729170e-01],\n",
       "       [2.58706307e-01, 4.60038596e-01, 2.81255097e-01],\n",
       "       [5.16787139e-01, 1.31271338e-01, 3.51941523e-01],\n",
       "       [2.44399613e-01, 6.66156052e-02, 6.88984781e-01],\n",
       "       [6.18538473e-01, 9.40770748e-02, 2.87384453e-01],\n",
       "       [5.68565411e-01, 5.99597231e-02, 3.71474865e-01],\n",
       "       [3.52089996e-01, 5.03309392e-01, 1.44600613e-01],\n",
       "       [1.12736964e-01, 5.39550940e-01, 3.47712096e-01],\n",
       "       [4.49577065e-01, 1.89402225e-01, 3.61020711e-01],\n",
       "       [1.17954073e-01, 7.42267427e-02, 8.07819184e-01],\n",
       "       [5.29977997e-01, 3.87564507e-01, 8.24574963e-02],\n",
       "       [3.10563468e-01, 4.59067925e-01, 2.30368607e-01],\n",
       "       [5.64862785e-01, 2.02501973e-01, 2.32635243e-01],\n",
       "       [1.32728587e-01, 1.49029199e-02, 8.52368493e-01],\n",
       "       [6.25375073e-02, 8.68092413e-01, 6.93700797e-02],\n",
       "       [2.27727957e-01, 2.82857716e-01, 4.89414327e-01],\n",
       "       [5.43550591e-01, 1.27656445e-01, 3.28792964e-01],\n",
       "       [2.79026476e-02, 8.06833132e-01, 1.65264221e-01],\n",
       "       [4.61228919e-01, 3.77163235e-01, 1.61607846e-01],\n",
       "       [5.93893186e-01, 8.43472427e-02, 3.21759571e-01],\n",
       "       [1.72142098e-01, 8.08674385e-01, 1.91835170e-02],\n",
       "       [2.31173847e-01, 8.10353996e-02, 6.87790753e-01],\n",
       "       [2.71223987e-01, 5.77708534e-01, 1.51067479e-01],\n",
       "       [5.71793999e-01, 2.34215574e-01, 1.93990428e-01],\n",
       "       [1.06417400e-01, 8.91479645e-02, 8.04434635e-01],\n",
       "       [4.87578612e-01, 1.14719037e-01, 3.97702351e-01],\n",
       "       [1.78809211e-02, 9.56128210e-01, 2.59908691e-02],\n",
       "       [4.74643481e-02, 9.23811500e-01, 2.87241517e-02],\n",
       "       [3.94132878e-01, 1.88129779e-01, 4.17737343e-01],\n",
       "       [2.28464094e-01, 5.22683899e-01, 2.48852007e-01],\n",
       "       [6.87674174e-01, 2.65881289e-01, 4.64445368e-02],\n",
       "       [1.37797321e-02, 1.35839921e-01, 8.50380347e-01],\n",
       "       [3.01828300e-01, 6.74232018e-01, 2.39396825e-02],\n",
       "       [7.24265975e-02, 9.20418007e-01, 7.15539598e-03],\n",
       "       [3.90773686e-01, 3.14031741e-01, 2.95194573e-01],\n",
       "       [3.90602919e-04, 8.32275504e-01, 1.67333893e-01],\n",
       "       [5.00222944e-01, 2.53360128e-01, 2.46416927e-01],\n",
       "       [6.01376067e-03, 7.46758019e-01, 2.47228221e-01],\n",
       "       [5.68465461e-01, 3.66041558e-01, 6.54929811e-02],\n",
       "       [1.98084411e-02, 4.55436181e-01, 5.24755378e-01],\n",
       "       [6.18548411e-01, 1.74189974e-02, 3.64032592e-01],\n",
       "       [6.65750214e-01, 2.79299940e-01, 5.49498462e-02],\n",
       "       [5.44300161e-01, 3.42970258e-02, 4.21402813e-01],\n",
       "       [6.53137949e-01, 2.60686453e-01, 8.61755989e-02],\n",
       "       [4.31420463e-01, 1.67873259e-01, 4.00706277e-01],\n",
       "       [1.20959801e-02, 9.51351122e-01, 3.65528976e-02],\n",
       "       [7.70144259e-01, 4.86761901e-02, 1.81179551e-01],\n",
       "       [5.71911158e-01, 3.53879301e-02, 3.92700912e-01],\n",
       "       [1.79912524e-02, 9.49461586e-01, 3.25471613e-02],\n",
       "       [4.42184944e-01, 5.00192050e-01, 5.76230056e-02],\n",
       "       [7.76205738e-01, 4.89262117e-02, 1.74868050e-01],\n",
       "       [8.26197880e-01, 5.64176268e-02, 1.17384493e-01],\n",
       "       [4.27743828e-01, 1.34406791e-01, 4.37849381e-01],\n",
       "       [1.74558318e-01, 6.20182065e-01, 2.05259616e-01],\n",
       "       [7.88946607e-01, 1.13251941e-02, 1.99728199e-01]])"
      ]
     },
     "execution_count": 11,
     "metadata": {},
     "output_type": "execute_result"
    }
   ],
   "source": [
    "model.predict_proba(X_test)"
   ]
  },
  {
   "cell_type": "code",
   "execution_count": 12,
   "metadata": {},
   "outputs": [
    {
     "name": "stdout",
     "output_type": "stream",
     "text": [
      "[[57 13 16]\n",
      " [15 39  6]\n",
      " [ 3 12 39]]\n",
      "0.675\n",
      "              precision    recall  f1-score   support\n",
      "\n",
      "           0       0.76      0.66      0.71        86\n",
      "           1       0.61      0.65      0.63        60\n",
      "           2       0.64      0.72      0.68        54\n",
      "\n",
      "    accuracy                           0.68       200\n",
      "   macro avg       0.67      0.68      0.67       200\n",
      "weighted avg       0.68      0.68      0.68       200\n",
      "\n"
     ]
    }
   ],
   "source": [
    "from sklearn.metrics import confusion_matrix, accuracy_score, classification_report\n",
    "print(confusion_matrix(y_pred, y_test))\n",
    "print(accuracy_score(y_pred,y_test))\n",
    "print(classification_report(y_pred, y_test))"
   ]
  },
  {
   "cell_type": "code",
   "execution_count": null,
   "metadata": {},
   "outputs": [],
   "source": []
  }
 ],
 "metadata": {
  "kernelspec": {
   "display_name": "Python 3",
   "language": "python",
   "name": "python3"
  },
  "language_info": {
   "codemirror_mode": {
    "name": "ipython",
    "version": 3
   },
   "file_extension": ".py",
   "mimetype": "text/x-python",
   "name": "python",
   "nbconvert_exporter": "python",
   "pygments_lexer": "ipython3",
   "version": "3.12.0"
  }
 },
 "nbformat": 4,
 "nbformat_minor": 2
}
